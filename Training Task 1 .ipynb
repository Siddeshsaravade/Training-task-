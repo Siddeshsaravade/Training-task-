{
 "cells": [
  {
   "cell_type": "code",
   "execution_count": 1,
   "metadata": {},
   "outputs": [],
   "source": [
    "import tkinter as tk\n",
    "from tkinter import ttk\n",
    "from tkinter import messagebox\n",
    "import pandas as pd\n",
    "import numpy as np\n",
    "import matplotlib.pyplot as plt\n",
    "import seaborn as sns\n",
    "from matplotlib.backends.backend_tkagg import FigureCanvasTkAgg\n",
    "from sklearn.model_selection import train_test_split\n",
    "from sklearn.ensemble import RandomForestRegressor\n",
    "from sklearn.metrics import mean_squared_error, r2_score\n",
    "from nltk.sentiment.vader import SentimentIntensityAnalyzer\n",
    "import nltk"
   ]
  },
  {
   "cell_type": "code",
   "execution_count": 2,
   "metadata": {},
   "outputs": [],
   "source": [
    "# Step 1: Load the Dataset\n",
    "apps_df = pd.read_csv('Play Store Data.csv')\n",
    "reviews_df = pd.read_csv('User Reviews.csv')"
   ]
  },
  {
   "cell_type": "code",
   "execution_count": 3,
   "metadata": {},
   "outputs": [],
   "source": [
    "# Step 2: Data Cleaning\n",
    "apps_df = apps_df.dropna(subset=['Rating'])\n",
    "for column in apps_df.columns:\n",
    "    apps_df[column].fillna(apps_df[column].mode()[0], inplace=True)\n",
    "apps_df.drop_duplicates(inplace=True)\n",
    "apps_df = apps_df[apps_df['Rating'] <= 5]\n",
    "reviews_df.dropna(subset=['Translated_Review'], inplace=True)"
   ]
  },
  {
   "cell_type": "code",
   "execution_count": 4,
   "metadata": {},
   "outputs": [],
   "source": [
    "# Merge datasets on 'App' and handle non-matching apps\n",
    "merged_df = pd.merge(apps_df, reviews_df, on='App', how='inner')"
   ]
  },
  {
   "cell_type": "code",
   "execution_count": 5,
   "metadata": {},
   "outputs": [],
   "source": [
    "# Step 3: Data Transformation\n",
    "apps_df['Reviews'] = apps_df['Reviews'].astype(int)\n",
    "apps_df['Installs'] = apps_df['Installs'].str.replace(',', '').str.replace('+', '').astype(int)\n",
    "apps_df['Price'] = apps_df['Price'].str.replace('$', '').astype(float)"
   ]
  },
  {
   "cell_type": "code",
   "execution_count": 6,
   "metadata": {},
   "outputs": [],
   "source": [
    "def convert_size(size):\n",
    "    if 'M' in size:\n",
    "        return float(size.replace('M', ''))\n",
    "    elif 'k' in size:\n",
    "        return float(size.replace('k', '')) / 1024\n",
    "    else:\n",
    "        return np.nan"
   ]
  },
  {
   "cell_type": "code",
   "execution_count": 7,
   "metadata": {},
   "outputs": [],
   "source": [
    "apps_df['Size'] = apps_df['Size'].apply(convert_size)\n"
   ]
  },
  {
   "cell_type": "code",
   "execution_count": 8,
   "metadata": {},
   "outputs": [],
   "source": [
    "# Add Rating Group column\n",
    "def rating_group(rating):\n",
    "    if rating >= 4:\n",
    "        return 'Top rated'\n",
    "    elif rating >= 3:\n",
    "        return 'Above average'\n",
    "    elif rating >= 2:\n",
    "        return 'Average'\n",
    "    else:\n",
    "        return 'Below average'\n",
    "\n",
    "apps_df['Rating_Group'] = apps_df['Rating'].apply(rating_group)"
   ]
  },
  {
   "cell_type": "code",
   "execution_count": 9,
   "metadata": {},
   "outputs": [],
   "source": [
    "# Add Revenue column\n",
    "apps_df['Revenue'] = apps_df['Price'] * apps_df['Installs']\n"
   ]
  },
  {
   "cell_type": "code",
   "execution_count": 10,
   "metadata": {},
   "outputs": [],
   "source": [
    "# Sentiment Analysis\n",
    "sia = SentimentIntensityAnalyzer()\n",
    "reviews_df['Sentiment_Score'] = reviews_df['Translated_Review'].apply(lambda x: sia.polarity_scores(str(x))['compound'])"
   ]
  },
  {
   "cell_type": "code",
   "execution_count": 11,
   "metadata": {},
   "outputs": [],
   "source": [
    "# Extract year from 'Last Updated' and create 'Year' column\n",
    "apps_df['Last Updated'] = pd.to_datetime(apps_df['Last Updated'], errors='coerce')\n",
    "apps_df['Year'] = apps_df['Last Updated'].dt.year"
   ]
  },
  {
   "cell_type": "code",
   "execution_count": 12,
   "metadata": {},
   "outputs": [
    {
     "ename": "AttributeError",
     "evalue": "module 'seaborn' has no attribute 'histplot'",
     "output_type": "error",
     "traceback": [
      "\u001b[1;31m---------------------------------------------------------------------------\u001b[0m",
      "\u001b[1;31mAttributeError\u001b[0m                            Traceback (most recent call last)",
      "\u001b[1;32m<ipython-input-12-25aef4010a8c>\u001b[0m in \u001b[0;36m<module>\u001b[1;34m\u001b[0m\n\u001b[0;32m    200\u001b[0m \u001b[1;33m\u001b[0m\u001b[0m\n\u001b[0;32m    201\u001b[0m \u001b[1;32mif\u001b[0m \u001b[0m__name__\u001b[0m \u001b[1;33m==\u001b[0m \u001b[1;34m\"__main__\"\u001b[0m\u001b[1;33m:\u001b[0m\u001b[1;33m\u001b[0m\u001b[1;33m\u001b[0m\u001b[0m\n\u001b[1;32m--> 202\u001b[1;33m     \u001b[0mapp\u001b[0m \u001b[1;33m=\u001b[0m \u001b[0mAppDashboard\u001b[0m\u001b[1;33m(\u001b[0m\u001b[1;33m)\u001b[0m\u001b[1;33m\u001b[0m\u001b[1;33m\u001b[0m\u001b[0m\n\u001b[0m\u001b[0;32m    203\u001b[0m     \u001b[0mapp\u001b[0m\u001b[1;33m.\u001b[0m\u001b[0mmainloop\u001b[0m\u001b[1;33m(\u001b[0m\u001b[1;33m)\u001b[0m\u001b[1;33m\u001b[0m\u001b[1;33m\u001b[0m\u001b[0m\n",
      "\u001b[1;32m<ipython-input-12-25aef4010a8c>\u001b[0m in \u001b[0;36m__init__\u001b[1;34m(self)\u001b[0m\n\u001b[0;32m     38\u001b[0m         \u001b[0mself\u001b[0m\u001b[1;33m.\u001b[0m\u001b[0mcreate_category_analysis\u001b[0m\u001b[1;33m(\u001b[0m\u001b[0mscrollable_frame\u001b[0m\u001b[1;33m,\u001b[0m \u001b[1;36m0\u001b[0m\u001b[1;33m,\u001b[0m \u001b[1;36m0\u001b[0m\u001b[1;33m)\u001b[0m\u001b[1;33m\u001b[0m\u001b[1;33m\u001b[0m\u001b[0m\n\u001b[0;32m     39\u001b[0m         \u001b[0mself\u001b[0m\u001b[1;33m.\u001b[0m\u001b[0mcreate_type_analysis\u001b[0m\u001b[1;33m(\u001b[0m\u001b[0mscrollable_frame\u001b[0m\u001b[1;33m,\u001b[0m \u001b[1;36m0\u001b[0m\u001b[1;33m,\u001b[0m \u001b[1;36m1\u001b[0m\u001b[1;33m)\u001b[0m\u001b[1;33m\u001b[0m\u001b[1;33m\u001b[0m\u001b[0m\n\u001b[1;32m---> 40\u001b[1;33m         \u001b[0mself\u001b[0m\u001b[1;33m.\u001b[0m\u001b[0mcreate_rating_sentiment_analysis\u001b[0m\u001b[1;33m(\u001b[0m\u001b[0mscrollable_frame\u001b[0m\u001b[1;33m,\u001b[0m \u001b[1;36m0\u001b[0m\u001b[1;33m,\u001b[0m \u001b[1;36m2\u001b[0m\u001b[1;33m)\u001b[0m\u001b[1;33m\u001b[0m\u001b[1;33m\u001b[0m\u001b[0m\n\u001b[0m\u001b[0;32m     41\u001b[0m         \u001b[0mself\u001b[0m\u001b[1;33m.\u001b[0m\u001b[0mcreate_installation_update_analysis\u001b[0m\u001b[1;33m(\u001b[0m\u001b[0mscrollable_frame\u001b[0m\u001b[1;33m,\u001b[0m \u001b[1;36m0\u001b[0m\u001b[1;33m,\u001b[0m \u001b[1;36m3\u001b[0m\u001b[1;33m)\u001b[0m\u001b[1;33m\u001b[0m\u001b[1;33m\u001b[0m\u001b[0m\n\u001b[0;32m     42\u001b[0m         \u001b[0mself\u001b[0m\u001b[1;33m.\u001b[0m\u001b[0mcreate_additional_insights\u001b[0m\u001b[1;33m(\u001b[0m\u001b[0mscrollable_frame\u001b[0m\u001b[1;33m,\u001b[0m \u001b[1;36m0\u001b[0m\u001b[1;33m,\u001b[0m \u001b[1;36m4\u001b[0m\u001b[1;33m)\u001b[0m\u001b[1;33m\u001b[0m\u001b[1;33m\u001b[0m\u001b[0m\n",
      "\u001b[1;32m<ipython-input-12-25aef4010a8c>\u001b[0m in \u001b[0;36mcreate_rating_sentiment_analysis\u001b[1;34m(self, parent, row, column)\u001b[0m\n\u001b[0;32m     79\u001b[0m \u001b[1;33m\u001b[0m\u001b[0m\n\u001b[0;32m     80\u001b[0m         \u001b[0mfig\u001b[0m\u001b[1;33m,\u001b[0m \u001b[0max\u001b[0m \u001b[1;33m=\u001b[0m \u001b[0mplt\u001b[0m\u001b[1;33m.\u001b[0m\u001b[0msubplots\u001b[0m\u001b[1;33m(\u001b[0m\u001b[0mfigsize\u001b[0m\u001b[1;33m=\u001b[0m\u001b[1;33m(\u001b[0m\u001b[1;36m5\u001b[0m\u001b[1;33m,\u001b[0m \u001b[1;36m3\u001b[0m\u001b[1;33m)\u001b[0m\u001b[1;33m)\u001b[0m\u001b[1;33m\u001b[0m\u001b[1;33m\u001b[0m\u001b[0m\n\u001b[1;32m---> 81\u001b[1;33m         \u001b[0msns\u001b[0m\u001b[1;33m.\u001b[0m\u001b[0mhistplot\u001b[0m\u001b[1;33m(\u001b[0m\u001b[0mapps_df\u001b[0m\u001b[1;33m[\u001b[0m\u001b[1;34m'Rating'\u001b[0m\u001b[1;33m]\u001b[0m\u001b[1;33m,\u001b[0m \u001b[0mbins\u001b[0m\u001b[1;33m=\u001b[0m\u001b[1;36m30\u001b[0m\u001b[1;33m,\u001b[0m \u001b[0mkde\u001b[0m\u001b[1;33m=\u001b[0m\u001b[1;32mTrue\u001b[0m\u001b[1;33m,\u001b[0m \u001b[0mcolor\u001b[0m\u001b[1;33m=\u001b[0m\u001b[1;34m'purple'\u001b[0m\u001b[1;33m,\u001b[0m \u001b[0max\u001b[0m\u001b[1;33m=\u001b[0m\u001b[0max\u001b[0m\u001b[1;33m)\u001b[0m\u001b[1;33m\u001b[0m\u001b[1;33m\u001b[0m\u001b[0m\n\u001b[0m\u001b[0;32m     82\u001b[0m         \u001b[0max\u001b[0m\u001b[1;33m.\u001b[0m\u001b[0mset_title\u001b[0m\u001b[1;33m(\u001b[0m\u001b[1;34m'Rating Distribution'\u001b[0m\u001b[1;33m)\u001b[0m\u001b[1;33m\u001b[0m\u001b[1;33m\u001b[0m\u001b[0m\n\u001b[0;32m     83\u001b[0m         \u001b[0max\u001b[0m\u001b[1;33m.\u001b[0m\u001b[0mset_xlabel\u001b[0m\u001b[1;33m(\u001b[0m\u001b[1;34m'Rating'\u001b[0m\u001b[1;33m)\u001b[0m\u001b[1;33m\u001b[0m\u001b[1;33m\u001b[0m\u001b[0m\n",
      "\u001b[1;31mAttributeError\u001b[0m: module 'seaborn' has no attribute 'histplot'"
     ]
    },
    {
     "data": {
      "image/png": "[encoded data removed]",
      "text/plain": [
       "<Figure size 360x216 with 1 Axes>"
      ]
     },
     "metadata": {
      "needs_background": "light"
     },
     "output_type": "display_data"
    },
    {
     "data": {
      "image/png": "[encoded data removed]",
      "text/plain": [
       "<Figure size 216x144 with 1 Axes>"
      ]
     },
     "metadata": {},
     "output_type": "display_data"
    },
    {
     "data": {
      "image/png": "[encoded data removed]",
      "text/plain": [
       "<Figure size 360x216 with 1 Axes>"
      ]
     },
     "metadata": {
      "needs_background": "light"
     },
     "output_type": "display_data"
    }
   ],
   "source": [
    "# Create Tkinter window\n",
    "class AppDashboard(tk.Tk):\n",
    "    def __init__(self):\n",
    "        super().__init__()\n",
    "        self.title(\"Google Play Store Analysis Dashboard\")\n",
    "        self.geometry(\"1200x800\")\n",
    "        self.configure(bg='lightgray')\n",
    "\n",
    "        # Create a main canvas and scrollbars\n",
    "        main_frame = tk.Frame(self)\n",
    "        main_frame.pack(fill=tk.BOTH, expand=True)\n",
    "\n",
    "        canvas = tk.Canvas(main_frame, bg='lightgray')\n",
    "        v_scrollbar = ttk.Scrollbar(main_frame, orient=\"vertical\", command=canvas.yview)\n",
    "        h_scrollbar = ttk.Scrollbar(main_frame, orient=\"horizontal\", command=canvas.xview)\n",
    "        \n",
    "        v_scrollbar.pack(side=\"right\", fill=\"y\")\n",
    "        h_scrollbar.pack(side=\"bottom\", fill=\"x\")\n",
    "        canvas.pack(side=\"left\", fill=\"both\", expand=True)\n",
    "        \n",
    "        scrollable_frame = ttk.Frame(canvas)\n",
    "        \n",
    "        scrollable_frame.bind(\n",
    "            \"<Configure>\",\n",
    "            lambda e: canvas.configure(\n",
    "                scrollregion=canvas.bbox(\"all\")\n",
    "            )\n",
    "        )\n",
    "\n",
    "        canvas.create_window((0, 0), window=scrollable_frame, anchor=\"nw\")\n",
    "        canvas.configure(yscrollcommand=v_scrollbar.set, xscrollcommand=h_scrollbar.set)\n",
    "\n",
    "        # Create a grid layout for the dashboard\n",
    "        for i in range(6):\n",
    "            scrollable_frame.columnconfigure(i, weight=1)\n",
    "\n",
    "        # Create and place frames for each visualization\n",
    "        self.create_category_analysis(scrollable_frame, 0, 0)\n",
    "        self.create_type_analysis(scrollable_frame, 0, 1)\n",
    "        self.create_rating_sentiment_analysis(scrollable_frame, 0, 2)\n",
    "        self.create_installation_update_analysis(scrollable_frame, 0, 3)\n",
    "        self.create_additional_insights(scrollable_frame, 0, 4)\n",
    "        self.create_ml_model_evaluation(scrollable_frame, 0, 5)\n",
    "\n",
    "    def create_category_analysis(self, parent, row, column):\n",
    "        frame = ttk.Frame(parent, padding=\"5\")\n",
    "        frame.grid(row=row, column=column, sticky=\"nsew\", pady=5)\n",
    "        frame.columnconfigure(0, weight=1)\n",
    "\n",
    "        category_counts = apps_df['Category'].value_counts().nlargest(10)\n",
    "        fig, ax = plt.subplots(figsize=(5, 3))\n",
    "        sns.barplot(x=category_counts.values, y=category_counts.index, palette='Spectral', ax=ax)\n",
    "        ax.set_title('Top Categories on Play Store')\n",
    "        ax.set_xlabel('Number of Apps')\n",
    "        ax.set_ylabel('Category')\n",
    "        fig.tight_layout()\n",
    "        canvas = FigureCanvasTkAgg(fig, master=frame)\n",
    "        canvas.draw()\n",
    "        canvas.get_tk_widget().pack(expand=True, fill=\"both\")\n",
    "\n",
    "    def create_type_analysis(self, parent, row, column):\n",
    "        frame = ttk.Frame(parent, padding=\"5\")\n",
    "        frame.grid(row=row, column=column, sticky=\"nsew\", pady=5)\n",
    "        frame.columnconfigure(0, weight=1)\n",
    "\n",
    "        type_counts = apps_df['Type'].value_counts()\n",
    "        fig, ax = plt.subplots(figsize=(3, 2))\n",
    "        ax.pie(type_counts, labels=type_counts.index, autopct='%1.1f%%', startangle=140, colors=['#ff9999', '#66b3ff'])\n",
    "        ax.set_title('Distribution of Free and Paid Apps')\n",
    "        fig.tight_layout()\n",
    "        canvas = FigureCanvasTkAgg(fig, master=frame)\n",
    "        canvas.draw()\n",
    "        canvas.get_tk_widget().pack(expand=True, fill=\"both\")\n",
    "\n",
    "    def create_rating_sentiment_analysis(self, parent, row, column):\n",
    "        frame = ttk.Frame(parent, padding=\"5\")\n",
    "        frame.grid(row=row, column=column, sticky=\"nsew\", pady=5)\n",
    "        frame.columnconfigure(0, weight=1)\n",
    "\n",
    "        fig, ax = plt.subplots(figsize=(5, 3))\n",
    "        sns.histplot(apps_df['Rating'], bins=30, kde=True, color='purple', ax=ax)\n",
    "        ax.set_title('Rating Distribution')\n",
    "        ax.set_xlabel('Rating')\n",
    "        ax.set_ylabel('Frequency')\n",
    "        fig.tight_layout()\n",
    "        canvas = FigureCanvasTkAgg(fig, master=frame)\n",
    "        canvas.draw()\n",
    "        canvas.get_tk_widget().pack(expand=True, fill=\"both\")\n",
    "\n",
    "        sentiment_counts = reviews_df['Sentiment_Score'].apply(lambda x: 'Positive' if x > 0 else ('Negative' if x < 0 else 'Neutral')).value_counts()\n",
    "        fig, ax = plt.subplots(figsize=(3, 2))\n",
    "        ax.pie(sentiment_counts, labels=sentiment_counts.index, autopct='%1.1f%%', startangle=140, colors=['#ffcc99', '#99ff99', '#66ffcc'])\n",
    "        ax.set_title('Sentiment Distribution')\n",
    "        fig.tight_layout()\n",
    "        canvas = FigureCanvasTkAgg(fig, master=frame)\n",
    "        canvas.draw()\n",
    "        canvas.get_tk_widget().pack(expand=True, fill=\"both\")\n",
    "\n",
    "    def create_installation_update_analysis(self, parent, row, column):\n",
    "        frame = ttk.Frame(parent, padding=\"5\")\n",
    "        frame.grid(row=row, column=column, sticky=\"nsew\", pady=5)\n",
    "        frame.columnconfigure(0, weight=1)\n",
    "\n",
    "        installs_by_category = apps_df.groupby('Category')['Installs'].sum().nlargest(10)\n",
    "        fig, ax = plt.subplots(figsize=(5, 3))\n",
    "        sns.barplot(x=installs_by_category.values, y=installs_by_category.index, palette='coolwarm', ax=ax)\n",
    "        ax.set_title('Installations by Category')\n",
    "        ax.set_xlabel('Number of Installations')\n",
    "        ax.set_ylabel('Category')\n",
    "        fig.tight_layout()\n",
    "        canvas = FigureCanvasTkAgg(fig, master=frame)\n",
    "        canvas.draw()\n",
    "        canvas.get_tk_widget().pack(expand=True, fill=\"both\")\n",
    "\n",
    "        updates_over_year = apps_df['Year'].value_counts().sort_index()\n",
    "        fig, ax = plt.subplots(figsize=(5, 3))\n",
    "        sns.lineplot(x=updates_over_year.index, y=updates_over_year.values, marker='o', ax=ax)\n",
    "        ax.set_title('Distribution of App Updates Over the Year')\n",
    "        ax.set_xlabel('Year')\n",
    "        ax.set_ylabel('Number of Updates')\n",
    "        fig.tight_layout()\n",
    "        canvas = FigureCanvasTkAgg(fig, master=frame)\n",
    "        canvas.draw()\n",
    "        canvas.get_tk_widget().pack(expand=True, fill=\"both\")\n",
    "\n",
    "    def create_additional_insights(self, parent, row, column):\n",
    "        frame = ttk.Frame(parent, padding=\"5\")\n",
    "        frame.grid(row=row, column=column, sticky=\"nsew\", pady=5)\n",
    "        frame.columnconfigure(0, weight=1)\n",
    "\n",
    "        revenue_by_category = apps_df.groupby('Category')['Revenue'].sum().nlargest(10)\n",
    "        fig, ax = plt.subplots(figsize=(5, 3))\n",
    "        sns.barplot(x=revenue_by_category.values, y=revenue_by_category.index, palette='viridis', ax=ax)\n",
    "        ax.set_title('Revenue by Category')\n",
    "        ax.set_xlabel('Revenue')\n",
    "        ax.set_ylabel('Category')\n",
    "        fig.tight_layout()\n",
    "        canvas = FigureCanvasTkAgg(fig, master=frame)\n",
    "        canvas.draw()\n",
    "        canvas.get_tk_widget().pack(expand=True, fill=\"both\")\n",
    "\n",
    "        genres_counts = apps_df['Genres'].str.split(';').explode().value_counts().nlargest(10)\n",
    "        fig, ax = plt.subplots(figsize=(5, 3))\n",
    "        sns.barplot(x=genres_counts.values, y=genres_counts.index, palette='magma', ax=ax)\n",
    "        ax.set_title('Top Genres on Play Store')\n",
    "        ax.set_xlabel('Number of Apps')\n",
    "        ax.set_ylabel('Genres')\n",
    "        fig.tight_layout()\n",
    "        canvas = FigureCanvasTkAgg(fig, master=frame)\n",
    "        canvas.draw()\n",
    "        canvas.get_tk_widget().pack(expand=True, fill=\"both\")\n",
    "\n",
    "        fig, ax = plt.subplots(figsize=(5, 3))\n",
    "        sns.boxplot(data=apps_df, x='Year', y='Rating', palette='cool', ax=ax)\n",
    "        ax.set_title('Effect of Last Update on Rating')\n",
    "        ax.set_xlabel('Year')\n",
    "        ax.set_ylabel('Rating')\n",
    "        fig.tight_layout()\n",
    "        canvas = FigureCanvasTkAgg(fig, master=frame)\n",
    "        canvas.draw()\n",
    "        canvas.get_tk_widget().pack(expand=True, fill=\"both\")\n",
    "\n",
    "        fig, ax = plt.subplots(figsize=(5, 3))\n",
    "        sns.boxplot(data=apps_df, x='Type', y='Rating', palette='Set2', ax=ax)\n",
    "        ax.set_title('Ratings for Paid vs Free Apps')\n",
    "        ax.set_xlabel('Type')\n",
    "        ax.set_ylabel('Rating')\n",
    "        fig.tight_layout()\n",
    "        canvas = FigureCanvasTkAgg(fig, master=frame)\n",
    "        canvas.draw()\n",
    "        canvas.get_tk_widget().pack(expand=True, fill=\"both\")\n",
    "\n",
    "    def create_ml_model_evaluation(self, parent, row, column):\n",
    "        frame = ttk.Frame(parent, padding=\"5\")\n",
    "        frame.grid(row=row, column=column, sticky=\"nsew\", pady=5)\n",
    "        frame.columnconfigure(0, weight=1)\n",
    "\n",
    "        X = apps_df[['Log_Reviews', 'Log_Installs', 'Price']]\n",
    "        y = apps_df['Rating']\n",
    "\n",
    "        X_train, X_test, y_train, y_test = train_test_split(X, y, test_size=0.2, random_state=42)\n",
    "\n",
    "        model = RandomForestRegressor(n_estimators=100, random_state=42)\n",
    "        model.fit(X_train, y_train)\n",
    "        y_pred = model.predict(X_test)\n",
    "\n",
    "        mse = mean_squared_error(y_test, y_pred)\n",
    "        r2 = r2_score(y_test, y_pred)\n",
    "\n",
    "        fig, ax = plt.subplots(figsize=(5, 3))\n",
    "        ax.scatter(y_test, y_pred, alpha=0.3)\n",
    "        ax.plot([0, 5], [0, 5], 'r--')\n",
    "        ax.set_title(f'ML Model Evaluation (MSE: {mse:.2f}, R2: {r2:.2f})')\n",
    "        ax.set_xlabel('True Rating')\n",
    "        ax.set_ylabel('Predicted Rating')\n",
    "        fig.tight_layout()\n",
    "        canvas = FigureCanvasTkAgg(fig, master=frame)\n",
    "        canvas.draw()\n",
    "        canvas.get_tk_widget().pack(expand=True, fill=\"both\")\n",
    "\n",
    "if __name__ == \"__main__\":\n",
    "    app = AppDashboard()\n",
    "    app.mainloop()"
   ]
  },
  {
   "cell_type": "code",
   "execution_count": null,
   "metadata": {},
   "outputs": [],
   "source": []
  },
  {
   "cell_type": "code",
   "execution_count": null,
   "metadata": {},
   "outputs": [],
   "source": []
  },
  {
   "cell_type": "code",
   "execution_count": null,
   "metadata": {},
   "outputs": [],
   "source": []
  }
 ],
 "metadata": {
  "kernelspec": {
   "display_name": "Python 3",
   "language": "python",
   "name": "python3"
  },
  "language_info": {
   "codemirror_mode": {
    "name": "ipython",
    "version": 3
   },
   "file_extension": ".py",
   "mimetype": "text/x-python",
   "name": "python",
   "nbconvert_exporter": "python",
   "pygments_lexer": "ipython3",
   "version": "3.7.6"
  }
 },
 "nbformat": 4,
 "nbformat_minor": 4
}
